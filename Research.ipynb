{
 "cells": [
  {
   "cell_type": "markdown",
   "metadata": {},
   "source": [
    "#### Research Notebook: Evaluation of Privacy-Preserving Machine Learning with FHE"
   ]
  },
  {
   "cell_type": "markdown",
   "metadata": {},
   "source": [
    "This research notebook will evaluate different models performance by comparing the classical models, provided by the scikit-learn library (which uses plain text data) to the equivalent provided by the concrete-ml models which works by leveragin the Fully Homomorphic Encryption. Specifically, the comparison will consider the following aspects (plaintext vs ciphertext):\n",
    "- Overall Accuracy of the plaintext\n",
    "- Latency of the model in plaintext     (average inference time on 100 iterations)\n",
    "- Accuracy of the model in ciphertext giving from the training from scratch with a varying bid-width (sort of hyper-parameter tuning)\n",
    "- Latency of the cipher model (average inference time on 100 iterations) varying the bid-width\n"
   ]
  },
  {
   "cell_type": "markdown",
   "metadata": {},
   "source": [
    "### Configuration of the Environment"
   ]
  },
  {
   "cell_type": "code",
   "execution_count": 13,
   "metadata": {},
   "outputs": [
    {
     "name": "stdout",
     "output_type": "stream",
     "text": []
    }
   ],
   "source": [
    "%pip install concrete-ml\n",
    "%pip install kagglehub[pandas-datasets]\n",
    "%pip install kagglehub\n",
    "%pip install seaborn\n",
    "%pip install imblearn"
   ]
  },
  {
   "cell_type": "code",
   "execution_count": null,
   "metadata": {},
   "outputs": [
    {
     "ename": "NameError",
     "evalue": "name 'data_left' is not defined",
     "output_type": "error",
     "traceback": [
      "\u001b[0;31m---------------------------------------------------------------------------\u001b[0m",
      "\u001b[0;31mNameError\u001b[0m                                 Traceback (most recent call last)",
      "Cell \u001b[0;32mIn[1], line 13\u001b[0m\n\u001b[1;32m     10\u001b[0m \u001b[38;5;28;01mimport\u001b[39;00m \u001b[38;5;21;01mpandas\u001b[39;00m\n\u001b[1;32m     12\u001b[0m \u001b[38;5;66;03m# Load your pandas DataFrame\u001b[39;00m\n\u001b[0;32m---> 13\u001b[0m df \u001b[38;5;241m=\u001b[39m pandas\u001b[38;5;241m.\u001b[39mread_csv(StringIO(\u001b[43mdata_left\u001b[49m))\n\u001b[1;32m     15\u001b[0m \u001b[38;5;66;03m# Obtain client object\u001b[39;00m\n\u001b[1;32m     16\u001b[0m client \u001b[38;5;241m=\u001b[39m ClientEngine(keys_path\u001b[38;5;241m=\u001b[39m\u001b[38;5;124m\"\u001b[39m\u001b[38;5;124mmy_keys\u001b[39m\u001b[38;5;124m\"\u001b[39m)\n",
      "\u001b[0;31mNameError\u001b[0m: name 'data_left' is not defined"
     ]
    }
   ],
   "source": [
    "# data preprocessing\n",
    "import numpy as np\n",
    "import seaborn as sn\n",
    "import matplotlib.pyplot as plt\n",
    "import time\n",
    "from typing import Dict, Callable\n",
    "\n",
    "# data encpryption\n",
    "from concrete.ml.pandas import ClientEngine\n",
    "from io import StringIO\n",
    "import pandas\n",
    "\n",
    "# data manipulation\n",
    "from imblearn.under_sampling import RandomUnderSampler\n",
    "from collections import Counter\n",
    "\n",
    "# models\n",
    "from sklearn.model_selection import StratifiedKFold\n",
    "from pandas import pandas as pd # needed to handle csv files\n",
    "# plain models\n",
    "from sklearn.tree import DecisionTreeClassifier\n",
    "from sklearn.model_selection import GridSearchCV\n",
    "from sklearn.metrics import precision_score, recall_score, f1_score, roc_auc_score,accuracy_score\n",
    "from sklearn.metrics import classification_report, confusion_matrix\n",
    "from sklearn.ensemble import RandomForestClassifier\n",
    "from sklearn.linear_model import LogisticRegression\n",
    "from sklearn.neural_network import MLPClassifier # to do\n",
    "from xgboost import XGBClassifier\n",
    "\n",
    "# cipher models\n",
    "from concrete.ml.sklearn import DecisionTreeClassifier as ConcreteDecisionTreeClassifier\n",
    "from concrete.ml.sklearn import LogisticRegression as ConcreteLogisticRegression\n",
    "from concrete.ml.sklearn import RandomForestClassifier as ConcreteRandomForestClassifier\n",
    "from concrete.ml.sklearn import LogisticRegression as ConcreteLogisticRegression\n",
    "from concrete.ml.sklearn import NeuralNetClassifier # to do \n",
    "from concrete.ml.sklearn import XGBClassifier as ConcreteXGBClassifier\n"
   ]
  },
  {
   "cell_type": "markdown",
   "metadata": {},
   "source": [
    "### About the Dataset: Credit Fraud Detection"
   ]
  },
  {
   "cell_type": "markdown",
   "metadata": {},
   "source": [
    "The dataset contains transactions made by credit cards in September 2013 by European cardholders.\n",
    "This dataset presents transactions that occurred in two days, where we have 492 frauds out of 284,807 transactions. The dataset is highly unbalanced, the positive class (frauds) account for 0.172% of all transactions.\n",
    "\n",
    "It contains only numerical input variables which are the result of a PCA transformation. Unfortunately, due to confidentiality issues, we cannot provide the original features and more background information about the data. Features V1, V2, … V28 are the principal components obtained with PCA, the only features which have not been transformed with PCA are 'Time' and 'Amount'. Feature 'Time' contains the seconds elapsed between each transaction and the first transaction in the dataset. The feature 'Amount' is the transaction Amount, this feature can be used for example-dependant cost-sensitive learning. Feature 'Class' is the response variable and it takes value 1 in case of fraud and 0 otherwise.\n",
    "\n",
    "Given the class imbalance ratio, we recommend measuring the accuracy using the Area Under the Precision-Recall Curve (AUPRC). Confusion matrix accuracy is not meaningful for unbalanced classification."
   ]
  },
  {
   "cell_type": "markdown",
   "metadata": {},
   "source": [
    "The dataset has been collected and analysed during a research collaboration of Worldline and the Machine Learning Group (http://mlg.ulb.ac.be) of ULB (Université Libre de Bruxelles) on big data mining and fraud detection.\n",
    "It is available on Kaggle (https://www.kaggle.com/datasets/mlg-ulb/creditcardfraud?resource=download) and it is used under the Database Contents License (DbCL) v1.0"
   ]
  },
  {
   "cell_type": "markdown",
   "metadata": {},
   "source": [
    "### Data Preprocessing: Exploration"
   ]
  },
  {
   "cell_type": "code",
   "execution_count": 15,
   "metadata": {},
   "outputs": [],
   "source": [
    "df = pd.read_csv(\"creditcard.csv\")"
   ]
  },
  {
   "cell_type": "code",
   "execution_count": 16,
   "metadata": {},
   "outputs": [
    {
     "name": "stdout",
     "output_type": "stream",
     "text": []
    }
   ],
   "source": [
    "df.head()"
   ]
  },
  {
   "cell_type": "markdown",
   "metadata": {},
   "source": [
    "Looking at the df.describe() outcome the following consideration about the dataset can be made:\n",
    "1. **Time Feature**:\n",
    "    - The `Time` feature represents the seconds elapsed between each transaction and the first transaction in the dataset.\n",
    "    - The range of values indicates transactions span over a significant time period.\n",
    "\n",
    "2. **Amount Feature**:\n",
    "    - The `Amount` feature represents the transaction amount.\n",
    "    - The mean and standard deviation suggest a wide variation in transaction amounts, with some outliers likely present.\n",
    "\n",
    "3. **Principal Components (V1 to V28)**:\n",
    "    - These features are the result of PCA transformation and are scaled.\n",
    "    - The mean values are close to zero, and the standard deviations indicate the spread of the data.\n",
    "\n",
    "4. **Class Feature**:\n",
    "    - The `Class` feature is the target variable, where `1` indicates fraud and `0` indicates non-fraud.\n",
    "    - The dataset is highly imbalanced, as observed in the count of fraudulent vs. non-fraudulent transactions.\n",
    "\n",
    "```"
   ]
  },
  {
   "cell_type": "code",
   "execution_count": 17,
   "metadata": {},
   "outputs": [
    {
     "name": "stdout",
     "output_type": "stream",
     "text": []
    }
   ],
   "source": [
    "df.describe()"
   ]
  },
  {
   "cell_type": "markdown",
   "metadata": {
    "vscode": {
     "languageId": "markdown"
    }
   },
   "source": [
    "#### Missing value evaluation"
   ]
  },
  {
   "cell_type": "code",
   "execution_count": 18,
   "metadata": {},
   "outputs": [
    {
     "name": "stdout",
     "output_type": "stream",
     "text": []
    }
   ],
   "source": [
    "if df.isnull().sum().sum() > 0: # the value will be higher than one if there is at least one missing value\n",
    "    print(\"There are missing values\")\n",
    "else:\n",
    "    print(\"This dataset does not contain any missing values\")"
   ]
  },
  {
   "cell_type": "markdown",
   "metadata": {},
   "source": [
    "#### Class Distribution evaluation\n"
   ]
  },
  {
   "cell_type": "markdown",
   "metadata": {},
   "source": [
    "As expected the classes are highly imbalanced, thus rebalancing is needed to perform good model training"
   ]
  },
  {
   "cell_type": "code",
   "execution_count": 19,
   "metadata": {},
   "outputs": [
    {
     "name": "stdout",
     "output_type": "stream",
     "text": []
    }
   ],
   "source": [
    "df['Class'].value_counts(normalize=True)"
   ]
  },
  {
   "cell_type": "markdown",
   "metadata": {},
   "source": [
    "#### Correlation Analysis"
   ]
  },
  {
   "cell_type": "code",
   "execution_count": 20,
   "metadata": {},
   "outputs": [
    {
     "name": "stdout",
     "output_type": "stream",
     "text": []
    }
   ],
   "source": [
    "correlation_matrix = df.corr()\n",
    "\n",
    "plt.figure(figsize=(15, 10))  \n",
    "heatmap = sn.heatmap(\n",
    "    data=correlation_matrix, \n",
    "    annot=True, \n",
    "    fmt=\".2f\", \n",
    "    cmap=\"coolwarm\", \n",
    "    cbar=True, \n",
    "    annot_kws={\"size\": 8}  \n",
    ")\n",
    "plt.title(\"Correlation Matrix\", fontsize=16)  \n",
    "plt.xticks(fontsize=10, rotation=45)  \n",
    "plt.yticks(fontsize=10)\n",
    "plt.show()"
   ]
  },
  {
   "cell_type": "markdown",
   "metadata": {},
   "source": [
    "#### Data Distribution and Scaling"
   ]
  },
  {
   "cell_type": "code",
   "execution_count": 21,
   "metadata": {},
   "outputs": [
    {
     "name": "stdout",
     "output_type": "stream",
     "text": []
    },
    {
     "name": "stdout",
     "output_type": "stream",
     "text": []
    }
   ],
   "source": [
    "df.boxplot(column=['Amount'])"
   ]
  },
  {
   "cell_type": "code",
   "execution_count": 22,
   "metadata": {},
   "outputs": [
    {
     "name": "stdout",
     "output_type": "stream",
     "text": []
    },
    {
     "name": "stdout",
     "output_type": "stream",
     "text": []
    }
   ],
   "source": [
    "df.boxplot(column=['Time'])"
   ]
  },
  {
   "cell_type": "markdown",
   "metadata": {},
   "source": [
    "##### Class Imbalance Handling"
   ]
  },
  {
   "cell_type": "markdown",
   "metadata": {},
   "source": [
    "Given the highly imbalanced nature of the dataset (fraudulent transactions accounting for only 0.172%), undersampling was chosen to reduce computational costs and training time while maintaining focus on the minority class. The large dataset size (284,807 samples) ensures sufficient data remains for training, even after undersampling, without introducing synthetic data that could risk overfitting.\n"
   ]
  },
  {
   "cell_type": "code",
   "execution_count": 23,
   "metadata": {},
   "outputs": [],
   "source": [
    "undersampler = RandomUnderSampler(random_state=42)"
   ]
  },
  {
   "cell_type": "code",
   "execution_count": 24,
   "metadata": {},
   "outputs": [],
   "source": [
    "x = df.drop(columns=['Class']).values  # Features\n",
    "y = df['Class'].values  # Target variable"
   ]
  },
  {
   "cell_type": "code",
   "execution_count": null,
   "metadata": {},
   "outputs": [],
   "source": [
    "def train_cipher_model(model, bit_widths, x, y, undersampler, kf):\n",
    "    \"\"\"_summary_\n",
    "    Train and evaluate a cipher model with different bit-widths.\n",
    "    This function performs the following steps:\n",
    "    1. Sets the bit-width for the cipher model.\n",
    "    2. Performs stratified k-fold cross-validation.\n",
    "    3. For each fold, it trains the model on the training data and evaluates it on the test data.\n",
    "    4. Measures the inference time for each fold.\n",
    "    5. Computes the average accuracy and latency across all folds.\n",
    "    6. Prints the results for each bit-width.\n",
    "    Args:\n",
    "        model (_type_): _description_\n",
    "        best_params (_type_): _description_\n",
    "        bit_widths (_type_): _description_\n",
    "        x (_type_): _description_\n",
    "        y (_type_): _description_\n",
    "        undersampler (_type_): _description_\n",
    "        kf (_type_): _description_\n",
    "    \"\"\"\n",
    "\n",
    "    cipher_accuracies = []\n",
    "    cipher_latencies = []\n",
    "\n",
    "    for bit_width in bit_widths:\n",
    "        model.set_params(n_bits=bit_width)\n",
    "        cv_scores = []\n",
    "        latencies = []\n",
    "\n",
    "        for train_index, test_index in kf.split(x, y):\n",
    "            X_train, X_test = x[train_index], x[test_index]\n",
    "            Y_train, Y_test = y[train_index], y[test_index]\n",
    "\n",
    "            X_train_resampled, Y_train_resampled = undersampler.fit_resample(X_train, Y_train)\n",
    "            model.fit(X_train_resampled, Y_train_resampled)\n",
    "\n",
    "            inference_times = []\n",
    "            for _ in range(100): \n",
    "                start_time = time.time()\n",
    "                model.predict(X_test)\n",
    "                inference_times.append(time.time() - start_time)\n",
    "\n",
    "            avg_inference_time = np.mean(inference_times)\n",
    "            latencies.append(avg_inference_time)\n",
    "\n",
    "            score = model.score(X_test, Y_test)\n",
    "            cv_scores.append(score)\n",
    "\n",
    "        cipher_accuracies.append(np.mean(cv_scores))\n",
    "        cipher_latencies.append(np.mean(latencies))\n",
    "\n",
    "    for i, bit_width in enumerate(bit_widths):\n",
    "        print(f\"Bit-Width: {bit_width}\")\n",
    "        print(f\"Average Accuracy: {cipher_accuracies[i]}\")\n",
    "        print(f\"Average Inference Latency (100 iterations): {cipher_latencies[i]:.6f} seconds\")\n"
   ]
  },
  {
   "cell_type": "code",
   "execution_count": null,
   "metadata": {},
   "outputs": [],
   "source": [
    "def train_plain_model(model,x, y, undersampler, kf=None):\n",
    "    \"\"\"\n",
    "    Train and evaluate a model using cross-validation.\n",
    "\n",
    "    Parameters:\n",
    "    - model: The machine learning model to train and evaluate.\n",
    "    - x: Feature matrix.\n",
    "    - y: Target vector.\n",
    "    - undersampler: An instance of an undersampling technique.\n",
    "    - kf: An instance of StratifiedKFold for cross-validation. If None, a default one will be used.\n",
    "\n",
    "    \"\"\"\n",
    "    if kf is None:\n",
    "        kf = StratifiedKFold(n_splits=10, shuffle=True, random_state=42)\n",
    "\n",
    "    cv_scores = []\n",
    "    latencies = []\n",
    "\n",
    "    for train_index, test_index in kf.split(x, y):\n",
    "        X_train, X_test = x[train_index], x[test_index]\n",
    "        Y_train, Y_test = y[train_index], y[test_index]\n",
    "\n",
    "        X_train_resampled, Y_train_resampled = undersampler.fit_resample(X_train, Y_train)\n",
    "\n",
    "        start_time = time.time()\n",
    "        model.fit(X_train_resampled, Y_train_resampled)\n",
    "        training_time = time.time() - start_time\n",
    "\n",
    "        inference_times = []\n",
    "        for _ in range(100):  \n",
    "            start_time = time.time()\n",
    "            model.predict(X_test)\n",
    "            inference_times.append(time.time() - start_time)\n",
    "\n",
    "        avg_inference_time = np.mean(inference_times)\n",
    "        latencies.append(avg_inference_time)\n",
    "\n",
    "        # Evaluate accuracy\n",
    "        Y_pred = model.predict(X_test)\n",
    "        score = accuracy_score(Y_test, Y_pred)\n",
    "        cv_scores.append(score)\n",
    "\n",
    "    average_accuracy = np.mean(cv_scores)\n",
    "    average_latency = np.mean(latencies)\n",
    "\n",
    "    print(f\"Cross-Validation Accuracy Scores: {cv_scores}\")\n",
    "    print(f\"Average Cross-Validation Accuracy: {average_accuracy}\")\n",
    "    print(f\"Average Inference Latency (100 iterations): {average_latency:.6f} seconds\")\n",
    "\n"
   ]
  },
  {
   "cell_type": "code",
   "execution_count": null,
   "metadata": {},
   "outputs": [],
   "source": [
    "\n",
    "def grid_search(grid_param: Dict, clf: Callable, X_train, y_train) -> GridSearchCV:\n",
    "    \"\"\"\n",
    "    Perform a grid search to find the best hyper-parameters for a given classifier.\n",
    "\n",
    "    Args:\n",
    "        grid_param (Dict): The hyper-parameters to be tuned\n",
    "        clf (Callable): The given classifier\n",
    "        X_train: Training feature matrix\n",
    "        y_train: Training target vector\n",
    "\n",
    "    Returns:\n",
    "        GridSearchCV: The fitted GridSearchCV object.\n",
    "    \"\"\"\n",
    "    grid_search = GridSearchCV(\n",
    "        clf,\n",
    "        grid_param,\n",
    "        cv=5,\n",
    "        scoring='f1',\n",
    "        verbose=1,\n",
    "        n_jobs=-1,\n",
    "    ).fit(X_train, y_train)\n",
    "\n",
    "    # The best model\n",
    "    print(f\"Best parameters: {grid_search.best_params_}\")\n",
    "    print(f\"Best score: {grid_search.best_score_:.2%}\")\n",
    "\n",
    "    return grid_search"
   ]
  },
  {
   "cell_type": "markdown",
   "metadata": {},
   "source": [
    "##### Hypeparameter Tuning"
   ]
  },
  {
   "cell_type": "code",
   "execution_count": null,
   "metadata": {},
   "outputs": [],
   "source": [
    "param_grid = {\n",
    "    'criterion': ['gini', 'entropy', 'log_loss'],\n",
    "    'max_depth': [None, 10, 20, 30, 40, 50, 60],\n",
    "    'min_samples_split': [2, 5, 10, 15, 20],\n",
    "    'min_samples_leaf': [1, 2, 4, 6, 8],\n",
    "    'max_features': [None, 'sqrt', 'log2', 0.5, 0.75],\n",
    "    'splitter': ['best', 'random'],\n",
    "    'class_weight': [None, 'balanced', {0: 1, 1: 2}, {0: 1, 1: 3}]\n",
    "}\n",
    "X_train_resampled, Y_train_resampled = undersampler.fit_resample(x, y)\n",
    "dt_model = DecisionTreeClassifier(random_state=42)\n",
    "grid_search_result = grid_search(param_grid, dt_model, X_train_resampled, Y_train_resampled)"
   ]
  },
  {
   "cell_type": "markdown",
   "metadata": {},
   "source": [
    "#### Decision Tree Model"
   ]
  },
  {
   "cell_type": "code",
   "execution_count": null,
   "metadata": {},
   "outputs": [],
   "source": [
    "best_params = {'class_weight': None, 'criterion': 'gini', 'max_depth': None, 'max_features': 0.5, 'min_samples_leaf': 2, 'min_samples_split': 20, 'splitter': 'random'}\n",
    "final_cipher_model = ConcreteDecisionTreeClassifier(**best_params, random_state=42)\n",
    "final_plain_model = DecisionTreeClassifier(**best_params, random_state=42)\n",
    "kf = StratifiedKFold(n_splits=10, shuffle=True, random_state=42)\n",
    "bit_widths = [2, 4, 6, 8, 10]\n",
    "train_plain_model(final_plain_model, x, y, undersampler, kf)\n",
    "train_cipher_model(final_cipher_model,bit_widths, x, y, undersampler, kf)"
   ]
  },
  {
   "cell_type": "markdown",
   "metadata": {},
   "source": [
    "#### Random Forest Model"
   ]
  },
  {
   "cell_type": "code",
   "execution_count": null,
   "metadata": {},
   "outputs": [],
   "source": [
    "param_grid_rf = {\n",
    "    'n_estimators': [50, 100, 200],\n",
    "    'max_depth': [None, 10, 20, 30],\n",
    "    'min_samples_split': [2, 5, 10],\n",
    "    'min_samples_leaf': [1, 2, 4],\n",
    "    'max_features': ['sqrt', 'log2', None],\n",
    "    'class_weight': [None, 'balanced', 'balanced_subsample']\n",
    "}\n",
    "\n",
    "rf_model = RandomForestClassifier(random_state=42)\n",
    "grid_search_result = grid_search(param_grid, rf_model, X_train_resampled, Y_train_resampled)"
   ]
  },
  {
   "cell_type": "code",
   "execution_count": null,
   "metadata": {},
   "outputs": [
    {
     "name": "stdout",
     "output_type": "stream",
     "text": []
    }
   ],
   "source": [
    "best_params_rf = {'class_weight': None, 'max_depth': None, 'max_features': 'sqrt', 'min_samples_leaf': 2, 'min_samples_split': 5, 'n_estimators': 50}\n",
    "final_cipher_model = ConcreteRandomForestClassifier(**best_params_rf, random_state=42)\n",
    "bit_widths = [2, 4, 6, 8, 10]\n",
    "final_plain_model = RandomForestClassifier(**best_params_rf, random_state=42)\n",
    "kf = StratifiedKFold(n_splits=10, shuffle=True, random_state=42)\n",
    "train_plain_model(final_plain_model, x, y, undersampler, kf)\n",
    "train_cipher_model(final_cipher_model, bit_widths, x, y, undersampler, kf)"
   ]
  },
  {
   "cell_type": "markdown",
   "metadata": {},
   "source": [
    "### Logistic Regression"
   ]
  },
  {
   "cell_type": "code",
   "execution_count": null,
   "metadata": {},
   "outputs": [
    {
     "name": "stdout",
     "output_type": "stream",
     "text": []
    }
   ],
   "source": [
    "param_grid_lr = {\n",
    "    'C': [0.01, 0.1, 1, 10, 100],\n",
    "    'solver': ['newton-cg', 'lbfgs', 'liblinear'],\n",
    "    'penalty': ['l2'],\n",
    "    'class_weight': [None, 'balanced']\n",
    "}\n",
    "lr_model = LogisticRegression(random_state=42, max_iter=1000)\n",
    "grid_search_result = grid_search(param_grid, lr_model, X_train_resampled, Y_train_resampled)"
   ]
  },
  {
   "cell_type": "code",
   "execution_count": null,
   "metadata": {},
   "outputs": [
    {
     "name": "stdout",
     "output_type": "stream",
     "text": []
    }
   ],
   "source": [
    "best_params_lr = {'C': 100, 'class_weight': None, 'penalty': 'l2', 'solver': 'newton-cg'}\n",
    "final_cipher_model = ConcreteLogisticRegression(**best_params_lr, random_state=42)\n",
    "bit_widths = [2, 4, 6, 8, 10]\n",
    "final_plain_model = LogisticRegression(**best_params_lr, random_state=42)\n",
    "kf = StratifiedKFold(n_splits=10, shuffle=True, random_state=42)\n",
    "train_plain_model(final_plain_model, x, y, undersampler, kf)\n",
    "train_cipher_model(final_cipher_model, bit_widths, x, y, undersampler, kf)"
   ]
  },
  {
   "cell_type": "markdown",
   "metadata": {},
   "source": [
    "#### Gradient Boost"
   ]
  },
  {
   "cell_type": "code",
   "execution_count": null,
   "metadata": {},
   "outputs": [
    {
     "name": "stdout",
     "output_type": "stream",
     "text": []
    }
   ],
   "source": [
    "param_grid_xgb = {\n",
    "    'n_estimators': [50, 100, 200],\n",
    "    'learning_rate': [0.01, 0.1, 0.2],\n",
    "    'max_depth': [3, 5, 7],\n",
    "    'min_child_weight': [1, 3, 5],\n",
    "    'subsample': [0.8, 0.9, 1.0],\n",
    "    'colsample_bytree': [0.8, 0.9, 1.0],\n",
    "    'gamma': [0, 0.1, 0.2]\n",
    "}\n",
    "\n",
    "xgb_model = XGBClassifier(random_state=42, use_label_encoder=False, eval_metric='logloss')\n",
    "dt_model = DecisionTreeClassifier(random_state=42)\n",
    "grid_search_result = grid_search(param_grid, xgb_model, X_train_resampled, Y_train_resampled)"
   ]
  },
  {
   "cell_type": "code",
   "execution_count": null,
   "metadata": {},
   "outputs": [
    {
     "name": "stdout",
     "output_type": "stream",
     "text": []
    }
   ],
   "source": [
    "best_params_xgb = {\n",
    "    'n_estimators': 100,\n",
    "    'learning_rate': 0.1,\n",
    "    'max_depth': 5,\n",
    "    'min_child_weight': 1,\n",
    "    'subsample': 0.9,\n",
    "    'colsample_bytree': 0.8,\n",
    "    'gamma': 0.1\n",
    "}\n",
    "final_cipher_model_xgb = ConcreteXGBClassifier(**best_params_xgb, random_state=42)\n",
    "final_plain_model_xgb = XGBClassifier(**best_params_xgb, random_state=42)\n",
    "train_plain_model(final_plain_model_xgb, x, y, undersampler, kf)\n",
    "train_cipher_model(final_cipher_model_xgb, bit_widths, x, y, undersampler, kf)"
   ]
  },
  {
   "cell_type": "markdown",
   "metadata": {},
   "source": [
    "#### Multilayer Perceptron (MLP)"
   ]
  },
  {
   "cell_type": "code",
   "execution_count": null,
   "metadata": {},
   "outputs": [
    {
     "name": "stdout",
     "output_type": "stream",
     "text": []
    },
    {
     "name": "stdout",
     "output_type": "stream",
     "text": []
    }
   ],
   "source": [
    "param_grid_mlp = {\n",
    "    'hidden_layer_sizes': [(50,), (100,), (50, 50), (100, 50), (100, 100)],\n",
    "    'activation': ['identity', 'logistic', 'tanh', 'relu'],\n",
    "    'solver': ['lbfgs', 'sgd', 'adam'],\n",
    "    'alpha': [0.0001, 0.001, 0.01, 0.1],\n",
    "    'learning_rate': ['constant', 'invscaling', 'adaptive'],\n",
    "    'max_iter': [200, 500, 1000]\n",
    "}\n",
    "\n",
    "mlp_model = MLPClassifier(random_state=42)\n",
    "grid_search_result = grid_search(param_grid, mlp_model, X_train_resampled, Y_train_resampled)"
   ]
  }
 ],
 "metadata": {
  "kernelspec": {
   "display_name": "Python 3",
   "language": "python",
   "name": "python3"
  },
  "language_info": {
   "codemirror_mode": {
    "name": "ipython",
    "version": 3
   },
   "file_extension": ".py",
   "mimetype": "text/x-python",
   "name": "python",
   "nbconvert_exporter": "python",
   "pygments_lexer": "ipython3",
   "version": "3.9.21"
  }
 },
 "nbformat": 4,
 "nbformat_minor": 2
}
