{
 "cells": [
  {
   "cell_type": "code",
   "execution_count": null,
   "id": "fea0d42c",
   "metadata": {},
   "outputs": [],
   "source": [
    "%pip install concrete-ml\n",
    "%pip install kagglehub[pandas-datasets]\n",
    "%pip install kagglehub\n",
    "%pip install seaborn\n",
    "%pip install imblearn"
   ]
  },
  {
   "cell_type": "code",
   "execution_count": null,
   "id": "05122899",
   "metadata": {},
   "outputs": [],
   "source": [
    "import pandas as pd\n",
    "import numpy as np\n",
    "from sklearn.preprocessing import StandardScaler\n",
    "from sklearn.model_selection import train_test_split\n",
    "from imblearn.under_sampling import RandomUnderSampler\n",
    "import matplotlib.pyplot as plt\n",
    "from fhe_model_evaluator import FHEModelEvaluator"
   ]
  },
  {
   "cell_type": "code",
   "execution_count": null,
   "id": "72263b48",
   "metadata": {},
   "outputs": [],
   "source": [
    "\n",
    "df = pd.read_csv('creditcard.csv')\n",
    "\n",
    "evaluator = FHEModelEvaluator(\n",
    "    data=df,                    \n",
    "    target_column='Class',    \n",
    "    random_state=42,\n",
    "    verbose=True,\n",
    "    test_size=0.2,\n",
    "    undersampling_ratio=0.1,\n",
    "    scaling=True,\n",
    "    model_types=['lr', 'rf', 'dt'],\n",
    "    bit_widths=[2, 3, 4, 6, 8],\n",
    "    cv_folds=3,\n",
    "    n_iterations=50\n",
    ")\n",
    "\n",
    "results = evaluator.run_full_pipeline()\n",
    "\n",
    "acc_fig, latency_fig, model_figures = evaluator.generate_report()"
   ]
  }
 ],
 "metadata": {
  "kernelspec": {
   "display_name": "Python 3",
   "language": "python",
   "name": "python3"
  },
  "language_info": {
   "codemirror_mode": {
    "name": "ipython",
    "version": 3
   },
   "file_extension": ".py",
   "mimetype": "text/x-python",
   "name": "python",
   "nbconvert_exporter": "python",
   "pygments_lexer": "ipython3",
   "version": "3.9.21"
  }
 },
 "nbformat": 4,
 "nbformat_minor": 5
}
